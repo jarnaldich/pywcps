{
 "cells": [
  {
   "cell_type": "markdown",
   "metadata": {},
   "source": [
    "# PyWCPS\n",
    "\n",
    "The problem: accessing WCPS from Python often means generating a string with the\n",
    "query source code and then sending it to the server endpoint via REST or POST. For\n",
    "non trivial queries, generating the string from Python code can be cumbersome\n",
    "because of:\n",
    "\n",
    "- Lack of tooling support (editor indentation, paren matching, etc...).\n",
    "- The code is mostly generated with ad-hoc interpolation and concatenation of\n",
    "  strings, which is weak in terms of abstraction and composability.\n",
    "- WCPS code gets obscured since it is intertwined with Python code.\n",
    "\n",
    "These problems can be greatly reduced by designing an Embedded Domain Specific\n",
    "Language (EDSL). The EDSL design pattern aims to map the syntax of the embedded\n",
    "language (here the WCPS language) into the syntax of a host language (here\n",
    "Python). This allows for automatically reusing the abstraction capabilities\n",
    "and tooling of the host language.\n",
    "\n",
    "Below are a list of real examples from showing what we can achieve with this\n",
    "approach. But before we start, better eval this for setup:"
   ]
  },
  {
   "cell_type": "code",
   "execution_count": 13,
   "metadata": {},
   "outputs": [
    {
     "name": "stdout",
     "output_type": "stream",
     "text": [
      "Requirement already satisfied: astunparse in e:\\soft\\continuum\\anaconda\\lib\\site-packages\n",
      "Requirement already satisfied: six<2.0,>=1.6.1 in e:\\soft\\continuum\\anaconda\\lib\\site-packages (from astunparse)\n",
      "Requirement already satisfied: wheel<1.0,>=0.23.0 in e:\\soft\\continuum\\anaconda\\lib\\site-packages (from astunparse)\n"
     ]
    },
    {
     "name": "stderr",
     "output_type": "stream",
     "text": [
      "You are using pip version 9.0.1, however version 10.0.1 is available.\n",
      "You should consider upgrading via the 'python -m pip install --upgrade pip' command.\n"
     ]
    }
   ],
   "source": [
    "!pip install astunparse\n",
    "import matplotlib.pyplot as plt\n",
    "%matplotlib inline\n",
    "# Imports will be simplified as API stabilizes... by now let's eval this...\n",
    "from pywcps.dsl import *\n",
    "from pywcps.ast_rewrite import wcps\n",
    "from pywcps.wcps_client import WCPSClient, emit_fun\n",
    "\n",
    "# This is a client helper object\n",
    "# eo = WCPSClient('http://earthserver.pml.ac.uk/rasdaman/ows/wcps')"
   ]
  },
  {
   "cell_type": "code",
   "execution_count": 14,
   "metadata": {},
   "outputs": [],
   "source": [
    "icgc = WCPSClient('http://rasdaman.icgc.local:8080/rasdaman/ows/wcps')\n",
    "#(minx, maxx, miny, maxy) = (381030,464790,4557753,4611056)\n",
    "(minx, maxx, miny, maxy) = (424894, 425342, 4596544, 4596926)\n",
    "\n",
    "@wcps\n",
    "def ofcosta(minx, miny, maxx, maxy):\n",
    "    return For(c='BeamIrradTest')[\n",
    "        encode(cast('float',\n",
    "                  clip(c[axis('E',  minx,  maxx),\n",
    "                    axis('N',  miny,  maxy),\n",
    "                    axis('ansi', '2018-01-01T15:00:00.000Z')],\n",
    "                    'POLYGON((424894.0 4596544.0, 424894.0 4596800.0, 425150.0 4596544.0, 424894.0 4596544.0))'))\n",
    "               \n",
    "               ,\n",
    "              'netcdf')\n",
    "    ]\n",
    "\n",
    "icgc.save_to(ofcosta, r'e:\\public\\prova.nc', minx=minx, miny=miny, maxx=minx + 0.5*512, maxy=miny + 0.5*512)"
   ]
  },
  {
   "cell_type": "code",
   "execution_count": 15,
   "metadata": {},
   "outputs": [
    {
     "data": {
      "text/plain": [
       "'for c in (BeamIrradTest) return encode((float) clip(c[E(424894:425150.0), N(4596544:4596800.0), ansi(\"2018-01-01T15:00:00.000Z\")], POLYGON((424894.0 4596544.0, 424894.0 4596800.0, 425150.0 4596544.0, 424894.0 4596544.0))), \"netcdf\")'"
      ]
     },
     "execution_count": 15,
     "metadata": {},
     "output_type": "execute_result"
    }
   ],
   "source": [
    "emit_fun(ofcosta, minx=minx, miny=miny, maxx=minx + 0.5*512, maxy=miny + 0.5*512)"
   ]
  },
  {
   "cell_type": "code",
   "execution_count": 16,
   "metadata": {
    "collapsed": true
   },
   "outputs": [],
   "source": [
    "import gdal\n",
    "from gdalconst import *\n",
    "dataset = gdal.Open( r'e:\\public\\prova.nc', GA_ReadOnly )\n"
   ]
  },
  {
   "cell_type": "code",
   "execution_count": 17,
   "metadata": {},
   "outputs": [
    {
     "data": {
      "text/plain": [
       "<osgeo.gdal.Dataset; proxy of <Swig Object of type 'GDALDatasetShadow *' at 0x000000000B929270> >"
      ]
     },
     "execution_count": 17,
     "metadata": {},
     "output_type": "execute_result"
    }
   ],
   "source": [
    "dataset"
   ]
  },
  {
   "cell_type": "code",
   "execution_count": 18,
   "metadata": {},
   "outputs": [],
   "source": [
    "arr = dataset.GetRasterBand(1).ReadAsArray()"
   ]
  },
  {
   "cell_type": "code",
   "execution_count": 19,
   "metadata": {},
   "outputs": [
    {
     "data": {
      "image/png": "[encoded data removed]",
      "text/plain": [
       "<matplotlib.figure.Figure at 0x25cac18>"
      ]
     },
     "metadata": {},
     "output_type": "display_data"
    }
   ],
   "source": [
    "import matplotlib.pyplot as plt\n",
    "plt.imshow(arr)\n",
    "plt.show()"
   ]
  },
  {
   "cell_type": "code",
   "execution_count": null,
   "metadata": {
    "collapsed": true
   },
   "outputs": [],
   "source": [
    "plt.show()"
   ]
  },
  {
   "cell_type": "markdown",
   "metadata": {},
   "source": [
    "The following examples are from the Domain Examples Notebook of GeoPython 2017 (mine is at: https://jupyter.eofrom.space/user/jarnaldich/notebooks/jupyter_notebooks/geopython_workshop_2017/Domain_examples.ipynb)\n",
    "\n",
    "This query:\n",
    "```\n",
    "for  d in (CCI_V2_monthly_chlor_a_rmsd)\n",
    "return \n",
    "encode((float)\n",
    "\n",
    " count(d[ ansi(\"2010-01-31T23:59:00\")] < 0.2 )\n",
    ", \"csv\"\n",
    "\n",
    ")\n",
    "```\n",
    "Is equivalent to the following Python snippet:"
   ]
  },
  {
   "cell_type": "code",
   "execution_count": null,
   "metadata": {},
   "outputs": [],
   "source": [
    "@wcps\n",
    "def test_cloro():\n",
    "    return For(c=\"CCI_V2_monthly_chlor_a_rmsd\")[\n",
    "         encode(cast('float',\n",
    "                    count(c[ansi(\"2010-01-31T23:59:00\")] < 0.201)),\n",
    "               \"csv\")]\n",
    "\n",
    "float(eo.get_str(test_cloro))"
   ]
  },
  {
   "cell_type": "markdown",
   "metadata": {},
   "source": [
    "The mechanics of the above should be fairly obvious. The user needs to define a function and decorate it with `wcps`. The decorator performs some magic so that WCPS code can be obtained from the function definition. The generated code can always be inspected, by the way:"
   ]
  },
  {
   "cell_type": "code",
   "execution_count": null,
   "metadata": {},
   "outputs": [],
   "source": [
    "emit_fun(test_cloro)"
   ]
  },
  {
   "cell_type": "markdown",
   "metadata": {},
   "source": [
    "Another simple example, from the same notebook:\n",
    "\n",
    "```\n",
    "for c in ( CCI_V2_release_chlor_a ), d in (CCI_V2_monthly_chlor_a_rmsd)\n",
    "return \n",
    "encode((float)\n",
    " avg(\n",
    " c[Long(0:10), Lat(45:55), ansi(\"2010-01-31T23:59:00\")] *\n",
    "  (d[Long(0:10), Lat(45:55), ansi(\"2010-01-31T23:59:00\")] < 0.1 )\n",
    " ), \"csv\"\n",
    "\n",
    ")\n",
    "```\n",
    "Translates to:"
   ]
  },
  {
   "cell_type": "code",
   "execution_count": null,
   "metadata": {},
   "outputs": [],
   "source": [
    "@wcps\n",
    "def test_cloro2():\n",
    "    return For(c=\"CCI_V2_release_chlor_a\",\n",
    "               d=\"CCI_V2_monthly_chlor_a_rmsd\")[\n",
    "        encode(\n",
    "          cast('float',\n",
    "             avg(c[axis('Long',0,10),\n",
    "                   axis('Lat', 45,55),\n",
    "                   axis('ansi', '2010-01-31T23:59:00')] *\n",
    "                 (d[axis('Long',0,10),\n",
    "                    axis('Lat', 45,55),\n",
    "                    axis('ansi', '2010-01-31T23:59:00')] < 0.45))\n",
    "        ), \"csv\")]\n",
    "\n",
    "\n",
    "float(eo.get_str(test_cloro2))"
   ]
  },
  {
   "cell_type": "markdown",
   "metadata": {},
   "source": [
    "That would be the most direct translation, but we can begin to see the advantadges of a EDSL when we realize that we can use plain Python to factor away the repetitive stuff. Getting away with repetitions increases readability and shows better what the intent of the query was.\n",
    "\n",
    "We can also easly parameterize queries as normal Python functions, and integrate them into other Python code..."
   ]
  },
  {
   "cell_type": "code",
   "execution_count": null,
   "metadata": {},
   "outputs": [],
   "source": [
    "import matplotlib.pyplot as plt\n",
    "%matplotlib inline\n",
    "\n",
    "# We can parameterize the threshold\n",
    "@wcps\n",
    "def test_cloro2(threshold):\n",
    "    # We can define the slice here...\n",
    "    slice = (axis('Long',0,10),\n",
    "             axis('Lat', 45,55),\n",
    "             axis('ansi', '2010-01-31T23:59:00'))\n",
    "    \n",
    "    # And the query looks like...\n",
    "    return For(c=\"CCI_V2_release_chlor_a\",\n",
    "               d=\"CCI_V2_monthly_chlor_a_rmsd\")[\n",
    "        encode(\n",
    "          cast('float',\n",
    "             avg(c[slice] * (d[slice] < threshold))\n",
    "        ), \"csv\")]\n",
    "\n",
    "plt.plot([float(eo.get_str(test_cloro2, float(x)/100)) for x in range(35,41)])"
   ]
  },
  {
   "cell_type": "markdown",
   "metadata": {},
   "source": [
    "Finally, we can write this crime of a query:\n",
    "```\n",
    "for a in (CCI_V2_monthly_chlor_a) return encode (switch case 0.05 > a[Lat(30:70),Long(-30:10),ansi(\"2009-09-30T23:59:00Z\")] return {red: 255; green: 255; blue: 255; alpha: 0} case 0.1 > a[Lat(30:70),Long(-30:10),ansi(\"2009-09-30T23:59:00Z\")]  return {red: 0; green: 255; blue: 255; alpha: 255} case 0.2 > a[Lat(30:70),Long(-30:10),ansi(\"2009-09-30T23:59:00Z\")]  return {red: 0; green: 128; blue: 255; alpha: 255} case 0.5 > a[Lat(30:70),Long(-30:10),ansi(\"2009-09-30T23:59:00Z\")]  return {red: 0; green: 0; blue: 255; alpha: 255} case 1.5 > a[Lat(30:70),Long(-30:10),ansi(\"2009-09-30T23:59:00Z\")]  return {red: 218; green: 0; blue: 255; alpha: 255} case 3.0 > a[Lat(30:70),Long(-30:10),ansi(\"2009-09-30T23:59:00Z\")]  return {red: 255; green: 0; blue: 255; alpha: 255} case 4.5 > a[Lat(30:70),Long(-30:10),ansi(\"2009-09-30T23:59:00Z\")]  return {red: 255; green: 164; blue: 0; alpha: 255} case 6.2 > a[Lat(30:70),Long(-30:10),ansi(\"2009-09-30T23:59:00Z\")]  return {red: 255; green: 250; blue: 0; alpha: 255} case 20 > a[Lat(30:70),Long(-30:10),ansi(\"2009-09-30T23:59:00Z\")]  return {red: 255; green: 0; blue: 0; alpha: 255} default return {red: 255; green: 255; blue:255; alpha: 0} ,\"png\")\n",
    "```\n",
    "as:"
   ]
  },
  {
   "cell_type": "code",
   "execution_count": null,
   "metadata": {},
   "outputs": [],
   "source": [
    "@wcps\n",
    "def test_colortable():\n",
    "\n",
    "    def less_than(cov, x):\n",
    "        return  cov[axis('Lat', 30,70),\n",
    "                  axis('Long', -30,10),\n",
    "                  axis('ansi', \"2009-09-30T23:59:00Z\")] < x\n",
    "\n",
    "    def rgba(r,g,b,a):\n",
    "        return struct(red=r, green=g, blue=b, alpha=a)\n",
    "\n",
    "    return For(a=\"CCI_V2_monthly_chlor_a\")[\n",
    "            encode(\n",
    "                switch(\n",
    "                    case(less_than(a, 0.05), rgba(255, 255, 255,   0)),\n",
    "                    case(less_than(a,  0.1), rgba(  0, 255, 255, 255)),\n",
    "                    case(less_than(a,  0.2), rgba(  0, 128, 255, 255)),\n",
    "                    case(less_than(a,  0.5), rgba(  0,   0, 255, 255)),\n",
    "                    case(less_than(a,  1.5), rgba(218,   0, 255, 255)),\n",
    "                    case(less_than(a,  3.0), rgba(255,   0, 255, 255)),\n",
    "                    case(less_than(a,  4.5), rgba(255, 164,   0, 255)),\n",
    "                    case(less_than(a,  6.2), rgba(255, 250,   0, 255)),\n",
    "                    case(less_than(a,   20), rgba(255,   0,   0, 255)),\n",
    "                    default(rgba(255, 255, 255,  0))), \"png\")]\n",
    "\n",
    "eo.ipython_image(test_colortable, { 'width': 400 })"
   ]
  },
  {
   "cell_type": "markdown",
   "metadata": {},
   "source": [
    "which looks kinda cute. Notice that the helper functions do not need to be inner functions. They could just as well be outside for reuse, if needed. For example, it would be entirely possible to write a function that automatically generates the switch statement for a colorscale like the above from a list of value cuts, which would make the above function even shorter.\n",
    "\n",
    "Before you ask, I got the coverage constructor, too... I called it \"New\""
   ]
  },
  {
   "cell_type": "code",
   "execution_count": null,
   "metadata": {},
   "outputs": [],
   "source": [
    "@wcps\n",
    "def test_coverage_constructor():\n",
    "    l = 100000\n",
    "    def roi(cov, time):\n",
    "        return cov[axis('Long', -50, -40),\n",
    "                   axis('Lat', 45,55),\n",
    "                   axis('ansi', time, crs=\"CRS:1\")]\n",
    "\n",
    "    def term(cov, time):\n",
    "        return (add((roi(cov, time) < l) * roi(cov, time))\n",
    "                /\n",
    "                count(roi(cov, time) < l))\n",
    "\n",
    "    return For(c=\"CCI_V2_release_daily_chlor_a\")[\n",
    "            encode(cast('float',\n",
    "                        New('histogram',\n",
    "                            px=axis('x', 0, 0),\n",
    "                            py=axis('y', 0, 0),\n",
    "                            pt=axis('t', 0, 360))[\n",
    "                                term(c, pt) #+ term(c, pt+1) + term(c, pt+2)\n",
    "                            ]), \"csv\")]\n",
    "\n",
    "\n",
    "res_txt = eo.get_str(test_coverage_constructor)\n",
    "plt.plot([float(x) for x in res_txt[2:-2].split(\",\")])"
   ]
  },
  {
   "cell_type": "markdown",
   "metadata": {},
   "source": [
    "Now, if you buy it...\n",
    "\n",
    "# The Plan\n",
    "\n",
    "  Writing a EDSL for a language that I do not know that much can be a bit risky,\n",
    "  so I prefer to start small. What I am more interested now is in getting the\n",
    "  structure right before adding a whole lot of functions. \n",
    "  \n",
    "  For example, I have just implemented the functions and operators that I needed\n",
    "  for the queries above (avg, count, +, *). I have left the others out\n",
    "  intentionally because I first need to make sure the structure is solid.\n",
    "  \n",
    "  That is where I would like to get feedback/help:\n",
    "  \n",
    "  - Can you think of a language construct I have left out? I'd be especially\n",
    "    interested in any query that has essentialy a different structure than the\n",
    "    ones I have already implemented... BTW\n",
    "    \n",
    "  - I know I have left out the literal coverage constructor and the condense expression, do you have any examples I can use to test the thing?\n",
    "    \n",
    "  - I have seen in the documentation that one can write for example a\n",
    "    convolution. Any complete example on that?\n",
    "    \n",
    "  - Can we have sub-coverages like (for c in (coverage Potato over ...)) (I mean, using a coverage constructor where a Coverage ID would be normally expected) any examples on that?\n",
    "  \n",
    "  - Any example of planetary science queries?\n",
    "  \n",
    "  - Any suggestions on the syntax? Any suggestions on how to proceed? Eg. I can try and start translating into this syntax whatever code you want... let's make this a challenge?\n",
    "  \n",
    "  Bear in mind that there errors and quirks may appear (eg. if operator precedence in Python is different than WPCPS)... better double-check the results at the beginning.\n",
    "\n",
    "  If you are interested in *how* I am doing it now, keep reading... Full documentation should be ready as API gets more stable.\n",
    "\n",
    "If this goes on, in the future some cool things are technically possible:\n",
    "\n",
    "- Checking for Type Errors.\n",
    "- Pretty-printing of the generated code for inspection.\n",
    "- Better error reporting. By now we rely on the error reporting of the server.\n",
    "- Checking for correctness for a particular server (that coverage names exist, that dimension labels are OK, etc...)\n",
    "\n",
    "# Design Principles\n",
    "\n",
    "  The goal  should be to make it possible to express WCPS Language queries as\n",
    "  Python constructs. All WCPS functionality should be available.\n",
    "  \n",
    "  When designing a DSL, some compromises have to be made. One can imagine trying\n",
    "  to make the surface syntax as close to the embedded language (WCPS) as possible,\n",
    "  at the expense of forcing the syntax of the host language (being un-Pythonic),\n",
    "  or to ignore the syntax of the host language whatsoever and just provide a\n",
    "  library for the host, at the expense of making this library counter intuitive for\n",
    "  the users of the embedded language. \n",
    "  \n",
    "  Designing a EDSL often involves a non-negligible amount of magic (on the fly syntax\n",
    "  manipulation, run-time code generation, introspection, etc...). These tools,\n",
    "  when not used with care, can lead to unexpected and uninutitive behaviours for\n",
    "  the programmer.\n",
    "  \n",
    "  This project will try to find a sweet spot where the Python code can still be\n",
    "  understandable as WSDL without forcing Python too much. To do so we will try\n",
    "  to follow one basic design principle: the EDSL will be an *expression language*.\n",
    "  \n",
    "  Remember that expressions in Python (and other languages) are any constructs\n",
    "  that have a value, can be assigned to a variable, passed to a function, etc...\n",
    "  Contrast this with statements, that are there for side-effects.\n",
    "  \n",
    "  Examples of expressions: `1+1`, `sin(x)`. Examples of non expressions `a=1+1`,\n",
    "  `if`s, `for`s, `def`s...\n",
    "  \n",
    "  I think expressions are especially suitable in this case because WCPS language is\n",
    "  essentially an expression language (eg. queries are essentially more or less\n",
    "  big expresions that return a result).\n",
    "  \n",
    "  Expressions have the nice property that they are _composable_: bigger\n",
    "  expressions can be built from the combination of smaller ones, which is good\n",
    "  for reuse and abstraction.\n",
    "  \n",
    "  Furthermore, expressions map very naturally into Python syntax. The only\n",
    "  exception are the _binding_ forms in WSCPS, that is those that \"declare\"\n",
    "  variable, namely the `for` (that bind coverage variables) and the\n",
    "  coverage constructors (that declare index variables). The only binding forms in Python are function and class declarations, which are not expressions, so a little AST manipulation is needed to bridge that\n",
    "  gap. Hopefully this will not result in any quirks when writing the code if the\n",
    "  coder assumes the basic design principle: that the whole EDSL is made of\n",
    "  expressions.\n",
    "  \n",
    "  For binding forms, I came up with the following syntax:\n",
    "  \n",
    "  ``` For(var=value ...)[ <body where var can be used> ]  ```\n",
    "  \n",
    "  For Python, this is just a call followed by an indexing operator, which are expressions... The decorator will walk the AST of the function code in search for those expressions, and will transform them into automatically generated python functions, but hopefully you do not need to think about that. Just bear in mind that the vars are only available *between* the square brackets. This mirrors WCSPL behaviour, but is un-Pythonic, since in Python variables have function (or class) scope (eg any variable used in a for loop is avalable throughout the function, not just inside the for loop).\n",
    "  \n",
    "This function illustrates what I mean. Both `i` and `z` ara available inside the whole function:  "
   ]
  },
  {
   "cell_type": "code",
   "execution_count": null,
   "metadata": {},
   "outputs": [],
   "source": [
    "def scope_rules_in_python_are_demented():\n",
    "    for i in range(10):\n",
    "        z = 2\n",
    "        \n",
    "    print i, z\n",
    "    \n",
    "scope_rules_in_python_are_demented()"
   ]
  },
  {
   "cell_type": "markdown",
   "metadata": {},
   "source": [
    "  \n",
    "# A sketch of the implementation\n",
    "\n",
    "  90% of EDSL are just python functions (defined in `dsl.py`) that, when\n",
    "  composed, build an AST (Abstract Syntax Tree) from the ground up. The root\n",
    "  node of this AST can later\n",
    "  be asked to emit the string that represents the WCPS query. The nodes of this\n",
    "  AST can be seen in the file `ast_nodes.py` and are just Python classes. Note\n",
    "  that this AST is different from the one needed to parse the WCPS language,\n",
    "  since we are just interested in code emission, which is easier.\n",
    "  \n",
    "  The only piece of magic are the binding forms `For` and `New`, which are\n",
    "  syntactically expressions but have to be transformed via source inspection and AST walking\n",
    "  into Python binding forms (functions under the hood). If done right, this\n",
    "  should be transparent to the coder.\n",
    "  \n",
    "  The code can be found in my github: https://github.com/jarnaldich/pywcps\n",
    "  \n",
    " "
   ]
  }
 ],
 "metadata": {
  "kernelspec": {
   "display_name": "Python 2",
   "language": "python",
   "name": "python2"
  },
  "language_info": {
   "codemirror_mode": {
    "name": "ipython",
    "version": 2
   },
   "file_extension": ".py",
   "mimetype": "text/x-python",
   "name": "python",
   "nbconvert_exporter": "python",
   "pygments_lexer": "ipython2",
   "version": "2.7.13"
  }
 },
 "nbformat": 4,
 "nbformat_minor": 1
}
